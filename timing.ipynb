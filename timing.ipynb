{
 "cells": [
  {
   "cell_type": "code",
   "execution_count": 15,
   "metadata": {},
   "outputs": [],
   "source": [
    "import numpy as np\n",
    "\n",
    "def bubble_sort(arr):\n",
    "    '''\n",
    "    Sorts the list or array arr using bubble sort.\n",
    "\n",
    "    Input: arr (list or array): the array to sort\n",
    "    Output: sorted_arr (list): a copy of arr, with elements sorted in order\n",
    "    '''\n",
    "    # Make a copy first\n",
    "    sorted_arr = arr.copy()\n",
    "    counter = 1\n",
    "    N = len(sorted_arr)\n",
    "\n",
    "    # Keep looping over the list until there are no more swaps\n",
    "    while True:\n",
    "        # Keep track of whether we've swapped anything this time\n",
    "        swapped = False\n",
    "\n",
    "        # Compare each consecutive pair of elements\n",
    "#         for i in range(N-counter):\n",
    "        for i in range(N-1):\n",
    "            if sorted_arr[i] > sorted_arr[i+1]:\n",
    "                # Swap!\n",
    "                sorted_arr[i], sorted_arr[i+1] = sorted_arr[i+1], sorted_arr[i]\n",
    "#                 temp = sorted_arr[i+1]\n",
    "#                 sorted_arr[i+1] = sorted_arr[i]\n",
    "#                 sorted_arr[i] = temp\n",
    "                swapped = True\n",
    "\n",
    "        # The next largest element is now at the correct place, we don't need to check it anymore\n",
    "        counter += 1\n",
    "\n",
    "        # If at this point swapped is still False, we can finish\n",
    "        if not swapped:\n",
    "            return sorted_arr\n",
    "        \n",
    "# Merge sort\n",
    "def merge(arr1, arr2):\n",
    "    '''\n",
    "    Merge 2 sorted lists into one sorted list.\n",
    "    '''\n",
    "    sorted_list = []\n",
    "\n",
    "    # Loop until the full list is formed, start at index 0 for both lists\n",
    "    i = 0\n",
    "    j = 0\n",
    "    while i < len(arr1) and j < len(arr2):\n",
    "        # Compare the items at the current locations for both lists\n",
    "        if arr1[i] < arr2[j]:\n",
    "            sorted_list.append(arr1[i])\n",
    "            i += 1\n",
    "        else:\n",
    "            sorted_list.append(arr2[j])\n",
    "            j += 1\n",
    "\n",
    "    # Add any remaining elements in arr1 or arr2 to the end\n",
    "    sorted_list.extend(arr1[i:])\n",
    "    sorted_list.extend(arr2[j:])\n",
    "    return sorted_list\n",
    "\n",
    "\n",
    "def merge_sort(arr):\n",
    "    '''\n",
    "    Recursive merge sort on an array or list of numbers.\n",
    "    '''\n",
    "    # Bottom of the recursion\n",
    "    if len(arr) == 1:\n",
    "        return arr\n",
    "\n",
    "    # Recursively merge sort both halves\n",
    "    arr1 = merge_sort(arr[:len(arr) // 2])\n",
    "    arr2 = merge_sort(arr[len(arr) // 2:])\n",
    "\n",
    "    # Merge the 2 sorted halves\n",
    "    sorted_arr = merge(arr1, arr2)\n",
    "    return sorted_arr"
   ]
  },
  {
   "cell_type": "code",
   "execution_count": 2,
   "metadata": {},
   "outputs": [],
   "source": [
    "%load_ext line_profiler"
   ]
  },
  {
   "cell_type": "code",
   "execution_count": 16,
   "metadata": {},
   "outputs": [],
   "source": [
    "rng = np.random.default_rng(1)\n",
    "n = 2000\n",
    "arr = rng.integers(1, n+1, size=n)\n",
    "arr1 = arr[:len(arr) // 2]\n",
    "arr2 = arr[len(arr) // 2:]\n",
    "\n",
    "%lprun -f bubble_sort bubble_sort(arr)"
   ]
  },
  {
   "cell_type": "code",
   "execution_count": 4,
   "metadata": {},
   "outputs": [],
   "source": [
    "%lprun?"
   ]
  }
 ],
 "metadata": {
  "kernelspec": {
   "display_name": "Python 3",
   "language": "python",
   "name": "python3"
  },
  "language_info": {
   "codemirror_mode": {
    "name": "ipython",
    "version": 3
   },
   "file_extension": ".py",
   "mimetype": "text/x-python",
   "name": "python",
   "nbconvert_exporter": "python",
   "pygments_lexer": "ipython3",
   "version": "3.7.6"
  }
 },
 "nbformat": 4,
 "nbformat_minor": 4
}
